{
 "cells": [
  {
   "cell_type": "code",
   "execution_count": 66,
   "id": "2a647620",
   "metadata": {},
   "outputs": [
    {
     "data": {
      "text/html": [
       "<span class=\"glif-stdout\">Successfully imported Grammar.gf</span>"
      ]
     },
     "metadata": {},
     "output_type": "display_data"
    }
   ],
   "source": [
    "abstract Grammar = {\n",
    "    cat\n",
    "        Name;\n",
    "        Gender;\n",
    "        Hair;\n",
    "        Hat;\n",
    "        --Adjective\n",
    "        Conn;\n",
    "        AP;\n",
    "        S;\n",
    "    fun\n",
    "        peter : Name;\n",
    "        mary : Name;\n",
    "        fido : Name;\n",
    "        john : Name;\n",
    "        \n",
    "        --can make these as type Adjective, remove makeAP and AP and make new makeS1, makeS2, makeS3 \n",
    "        wears_hat : Hat;\n",
    "        no_hat : Hat;\n",
    "        red_hair : Hair;\n",
    "        green_hair : Hair;\n",
    "        black_hair : Hair;\n",
    "        male : Gender;\n",
    "        female : Gender;\n",
    "        other : Gender;\n",
    "        \n",
    "        makeAP1 : Hat -> AP;\n",
    "        makeAP2 : Hair -> AP;\n",
    "        makeAP3 : Gender -> AP;\n",
    "        makeS : Name -> AP -> S;\n",
    "        \n",
    "        --and : AP -> AP -> AP;\n",
    "        and : Conn;\n",
    "        combineAP : AP -> Conn -> AP -> AP;\n",
    "        combineS : S -> Conn -> S -> S;\n",
    "}"
   ]
  },
  {
   "cell_type": "code",
   "execution_count": 70,
   "id": "9ac2f0d4",
   "metadata": {},
   "outputs": [
    {
     "data": {
      "text/html": [
       "<span class=\"glif-stdout\">Successfully imported GrammarEng.gf</span>"
      ]
     },
     "metadata": {},
     "output_type": "display_data"
    }
   ],
   "source": [
    "concrete GrammarEng of Grammar = {\n",
    "    lincat\n",
    "        Name = Str;\n",
    "        Hair =  Str;\n",
    "        Hat = Str;\n",
    "        Gender = Str;\n",
    "        S = Str;\n",
    "        AP = Str;\n",
    "        Conn = Str;\n",
    "    \n",
    "    lin\n",
    "        peter = \"Peter\";\n",
    "        mary = \"Mary\";\n",
    "        john = \"John\";\n",
    "        fido = \"Fido\";\n",
    "        \n",
    "        wears_hat = \" a hat\";\n",
    "        no_hat = \" no hat\";\n",
    "        red_hair = \" red hair\";\n",
    "        green_hair= \" green hair\";\n",
    "        black_hair = \" black hair\";\n",
    "        male = \" male\" ;\n",
    "        female = \" female\";\n",
    "        other = \" other\";\n",
    "        and = \"and\";\n",
    "        \n",
    "        makeAP1 adj_hat = \"wears\" ++ adj_hat;\n",
    "        makeAP2 adj_hair = \"has\" ++ adj_hair;\n",
    "        makeAP3 adj_gender = \"is\" ++ adj_gender;\n",
    "        \n",
    "        --and a b = a ++ \"and\" ++ b;\n",
    "        \n",
    "        -- to make a sentence, we take the string of a name (`name.s`)\n",
    "        -- and append the matching verb phrase, i.e. we have to look up\n",
    "        -- the right form in the table `vp.s` using the gender `name.g`.\n",
    "        -- the `!` operator is used for the lookup.\n",
    "        \n",
    "        combineAP ap1 c ap2 = ap1 ++ c ++ ap2;\n",
    "        makeS name ap = name ++ ap;\n",
    "        combineS s1 c s2 = s1 ++ c ++ s2;\n",
    "}"
   ]
  },
  {
   "cell_type": "code",
   "execution_count": 76,
   "id": "3539af04",
   "metadata": {},
   "outputs": [
    {
     "data": {
      "application/vnd.jupyter.widget-view+json": {
       "model_id": "1778093aaeb54f53b945bdafd6999e5d",
       "version_major": 2,
       "version_minor": 0
      },
      "text/plain": [
       "Dropdown(layout=Layout(width='max-content'), options=('0.0. combineS (makeS peter (makeAP1 wears_hat)) and (ma…"
      ]
     },
     "metadata": {},
     "output_type": "display_data"
    },
    {
     "data": {
      "application/vnd.jupyter.widget-view+json": {
       "model_id": "0536b6ba6c394a5a82c9df04db49deaf",
       "version_major": 2,
       "version_minor": 0
      },
      "text/plain": [
       "Image(value=b'<?xml version=\"1.0\" encoding=\"UTF-8\" standalone=\"no\"?>\\n<!DOCTYPE svg PUBLIC \"-//W3C//DTD SVG 1.…"
      ]
     },
     "metadata": {},
     "output_type": "display_data"
    }
   ],
   "source": [
    "parse \"Peter wears a hat and John is male\"| vt"
   ]
  },
  {
   "cell_type": "code",
   "execution_count": 77,
   "id": "9ecb33ad",
   "metadata": {},
   "outputs": [
    {
     "data": {
      "text/html": [
       "<span class=\"glif-stdout\">Successfully imported plnq.mmt</span>"
      ]
     },
     "metadata": {},
     "output_type": "display_data"
    }
   ],
   "source": [
    "theory plnq : ur:?LF =\n",
    "    prop : type ❘ # o ❙   // type for propositions ❙\n",
    "    // type for individuals (Ethel, Fido, ...) ❙\n",
    "    ind : type ❘ # ι ❙   // ι as notation for ind ❙\n",
    "\n",
    "    and : o ⟶ o ⟶ o ❘ # 1 ∧ 2 ❙\n",
    "❚"
   ]
  },
  {
   "cell_type": "code",
   "execution_count": 78,
   "id": "795530ce",
   "metadata": {},
   "outputs": [
    {
     "data": {
      "text/html": [
       "<span class=\"glif-stdout\">Successfully imported people.mmt</span>"
      ]
     },
     "metadata": {},
     "output_type": "display_data"
    }
   ],
   "source": [
    "theory people : ur:?LF =\n",
    "    include ?plnq ❙\n",
    "\n",
    "    peter : ι ❘ # peter' ❙\n",
    "    mary : ι ❘ # mary' ❙\n",
    "    fido : ι ❘ # fido' ❙\n",
    "    john : ι ❘ # john' ❙\n",
    "    \n",
    "    wears_hat :ι ⟶ o❘# wears_hat'❙\n",
    "    no_hat : ι ⟶ o ❘# no_hat'❙\n",
    "    red_hair : ι ⟶ o ❘# red_hair'❙\n",
    "    green_hair : ι ⟶ o ❘# green_hair'❙\n",
    "    black_hair : ι ⟶ o ❘# black_hair'❙\n",
    "    male : ι ⟶ o ❘# male'❙\n",
    "    female : ι ⟶ o ❘# female'❙\n",
    "    other : ι ⟶ o ❘# other'❙\n",
    "❚"
   ]
  },
  {
   "cell_type": "code",
   "execution_count": 80,
   "id": "52d60288",
   "metadata": {},
   "outputs": [
    {
     "data": {
      "text/html": [
       "<span class=\"glif-stdout\">Successfully imported GrammarSemantics.mmt</span>"
      ]
     },
     "metadata": {},
     "output_type": "display_data"
    }
   ],
   "source": [
    "view GrammarSemantics : http://mathhub.info/tmpGLIF/default/Grammar.gf?Grammar -> ?people =\n",
    "    Name = ι ❙\n",
    "    Gender = ι ⟶ o❙\n",
    "    Hair = ι ⟶ o ❙\n",
    "    Hat = ι ⟶ o ❙\n",
    "    AP = ι ⟶ o❙\n",
    "    S = o ❙ \n",
    "    Conn = o ⟶ o ⟶ o ❙\n",
    "\n",
    "    // makeAP1 : Adjective ⟶ AP ❙\n",
    "    // makeAP1 : (ι ⟶ o) ⟶ o ❙\n",
    "    makeAP1 = [hat] hat ❙\n",
    "    // makeAP2 : Adjective ⟶ AP ❙\n",
    "    // makeAP2 : (ι ⟶ o) ⟶ o ❙\n",
    "    makeAP2 = [hair] hair ❙  \n",
    "    // makeAP3 : Adjective ⟶ AP ❙\n",
    "    // makeAP3 : (ι ⟶ o) ⟶ o ❙\n",
    "    makeAP3 = [gender] gender ❙\n",
    "    // makeS : Name ⟶ AP ⟶ S ❙\n",
    "    makeS = [n][ap] ap n ❙\n",
    "    \n",
    "    combineAP = [ap1][c][ap2][x] c (ap1 x) (ap2 x) ❙\n",
    "    combineS = [s1][c][s2] c s1 s2 ❙\n",
    "    \n",
    "    and = [a] [b] a ∧ b ❙\n",
    "\n",
    "    peter = peter' ❙\n",
    "    mary = mary' ❙\n",
    "    fido = fido' ❙\n",
    "    john = john' ❙\n",
    "    \n",
    "    wears_hat = wears_hat'❙\n",
    "    no_hat = no_hat'❙\n",
    "    red_hair = red_hair'❙\n",
    "    green_hair= green_hair'❙\n",
    "    black_hair = black_hair'❙\n",
    "    male = male'❙\n",
    "    female = female'❙\n",
    "    other = other'❙\n",
    "    \n",
    "    // love_oneself : ReflexiveVerb ❙\n",
    "    // love_oneself : ι ⟶ ι ⟶ o ❙\n",
    "    // love_oneself = [x:ι] [y:ι] love' x y ❙\n",
    "    \n",
    "    \n",
    "❚"
   ]
  },
  {
   "cell_type": "code",
   "execution_count": 83,
   "id": "57c81a18",
   "metadata": {},
   "outputs": [
    {
     "data": {
      "text/html": [
       "<span class=\"glif-stdout\">(male&#x27; peter&#x27;)∧(no_hat&#x27; john&#x27;)</span>"
      ]
     },
     "metadata": {},
     "output_type": "display_data"
    }
   ],
   "source": [
    "parse \"Peter is male and John wears no hat\" | construct"
   ]
  },
  {
   "cell_type": "code",
   "execution_count": null,
   "id": "8eef6b85",
   "metadata": {},
   "outputs": [],
   "source": []
  },
  {
   "cell_type": "code",
   "execution_count": 37,
   "id": "8eef6b85",
   "metadata": {},
   "outputs": [
    {
     "data": {
      "text/html": [
       "<span class=\"glif-stdout\">Successfully imported prover.elpi</span><br/><span class=\"glif-stdout\">prover.elpi is the new default file for ELPI commands</span>"
      ]
     },
     "metadata": {},
     "output_type": "display_data"
    }
   ],
   "source": [
    "elpi: prover\n",
    "\n",
    "kind proposition type.\n",
    "kind proof type.\n",
    "\n",
    "% in MMT: and : o ⟶ o ⟶ o \n",
    "type and proposition -> proposition -> proposition.\n",
    "type or proposition -> proposition -> proposition.\n",
    "type impl proposition -> proposition -> proposition.\n",
    "type not proposition -> proposition.\n",
    "\n",
    "% provable is an ELPI predicate that takes 1 proposition\n",
    "% and returns a proof\n",
    "type provable proposition -> int -> proof -> prop.\n",
    "\n",
    "type wears_hat proposition -> proposition.\n",
    "type no_hat proposition -> proposition.\n",
    "type red_hair proposition -> proposition.\n",
    "type green_hair proposition  -> proposition.\n",
    "type black_hair proposition -> proposition.\n",
    "type male proposition -> proposition.\n",
    "type female proposition  -> proposition.\n",
    "type other proposition -> proposition.\n",
    "\n",
    "type peter proposition.\n",
    "type mary proposition.\n",
    "type fido proposition.\n",
    "type john proposition.\n",
    "\n",
    "type a_and_b proof.\n",
    "type not_a proof.\n",
    "type gender proof.\n",
    "type hair proof.\n",
    "type hat proof.\n",
    "\n",
    "% in MMT: andI: ⊢A ⟶ ⊢B ⟶ ⊢A∧B\n",
    "% normal Prolog: provable(and(A,B)) :- provable(A), provable(B).\n",
    "type andI proof -> proof -> proof.\n",
    "% And elimination left\n",
    "% MMT: andEl : ⊢A∧B ⟶ ⊢A\n",
    "type andEl proof -> proof.\n",
    "%And elimination right\n",
    "type andEr proof -> proof.\n",
    "\n",
    "provable (not A) Depth (notI):-\n",
    "    Depth >0,\n",
    "    NewDepth is Depth - 1,\n",
    "    provable\n",
    "\n",
    "provable (and A B) Depth (andI SubProof1 SubProof2):-\n",
    "    Depth > 0,\n",
    "    NewDepth is Depth - 1,\n",
    "    provable A NewDepth SubProof1,\n",
    "    provable B NewDepth SubProof2.\n",
    "\n",
    "provable A Depth (andEl SubProof):-\n",
    "    Depth > 0, NewDepth is Depth - 1,\n",
    "    provable (and A _B) NewDepth SubProof.\n",
    "\n",
    "provable B Depth (andEr SubProof) :-\n",
    "    Depth > 0, NewDepth is Depth - 1,\n",
    "    provable (and _A B) NewDepth SubProof. \n",
    "    \n",
    "type a proposition.\n",
    "type b proposition.\n",
    "\n",
    "provable (and a b) _Depth a_and_b.\n",
    "provable (not a) _Depth not_a.\n",
    "\n",
    "provable (male peter) _Depth gender.\n",
    "provable (male john) _Depth gender.\n",
    "provable (female mary) _Depth gender.\n",
    "provable (other fido) _Depth gender.\n",
    "\n",
    "provable (black_hair peter) _Depth hair.\n",
    "provable (green_hair john) _Depth hair.\n",
    "provable (red_hair mary) _Depth hair.\n",
    "provable (black_hair fido) _Depth hair.\n",
    "\n",
    "provable (no_hat peter) _Depth hat.\n",
    "provable (wears_hat john) _Depth hat.\n",
    "provable (wears_hat mary) _Depth hat.\n",
    "provable (wears_hat fido) _Depth hat."
   ]
  },
  {
   "cell_type": "code",
   "execution_count": 36,
   "id": "c1e037fe",
   "metadata": {},
   "outputs": [
    {
     "data": {
      "text/html": [
       "<span class=\"glif-stdout\">Query succeeded<br/>P = andI gender hat</span>"
      ]
     },
     "metadata": {},
     "output_type": "display_data"
    }
   ],
   "source": [
    "query \"provable(and(male peter)(wears_hat fido)) 1 P\""
   ]
  },
  {
   "cell_type": "code",
   "execution_count": 39,
   "id": "a1cc6b20",
   "metadata": {},
   "outputs": [
    {
     "data": {
      "text/html": [
       "<span class=\"glif-stdout\">Query failed<br/>P = X0</span>"
      ]
     },
     "metadata": {},
     "output_type": "display_data"
    }
   ],
   "source": [
    "query \"provable(not(female peter)) 0 P\""
   ]
  }
 ],
 "metadata": {
  "kernelspec": {
   "display_name": "GLIF",
   "language": "glif",
   "name": "glif"
  },
  "language_info": {
   "file_extension": ".glif",
   "mimetype": "text/glif",
   "name": "GLIF"
  }
 },
 "nbformat": 4,
 "nbformat_minor": 5
}
